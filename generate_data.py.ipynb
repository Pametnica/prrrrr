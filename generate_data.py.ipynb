{
 "cells": [
  {
   "cell_type": "code",
   "execution_count": 2,
   "id": "f8cfd53e-21ac-4827-a17d-40e3873cc27a",
   "metadata": {},
   "outputs": [],
   "source": [
    "import numpy as np\n",
    "import pandas as pd"
   ]
  },
  {
   "cell_type": "code",
   "execution_count": 3,
   "id": "c1d5d41f-f588-4d83-99cf-5035d0499ed8",
   "metadata": {},
   "outputs": [],
   "source": [
    "np.random.seed(42)"
   ]
  },
  {
   "cell_type": "code",
   "execution_count": 4,
   "id": "c64454d9-a620-46d0-956e-892b3e159c80",
   "metadata": {},
   "outputs": [],
   "source": [
    "n_samples = 1000\n",
    "normal_data = np.random.normal(loc=50, scale=5, size=n_samples)"
   ]
  },
  {
   "cell_type": "code",
   "execution_count": 19,
   "id": "d4352cc3-d4fb-480e-a21f-10d8b3718a54",
   "metadata": {},
   "outputs": [],
   "source": [
    "n_anomalies = 20\n",
    "anomalies = np.random.uniform(low=70, high=100, size=n_anomalies)"
   ]
  },
  {
   "cell_type": "code",
   "execution_count": 13,
   "id": "9dd87101-b6b4-4aa8-89b8-784fcd7fb7dc",
   "metadata": {},
   "outputs": [],
   "source": [
    "data = np.concatenate([normal_data, anomalies])"
   ]
  },
  {
   "cell_type": "code",
   "execution_count": 14,
   "id": "ebbef461-b11f-40de-88f1-cd66c46a6425",
   "metadata": {},
   "outputs": [],
   "source": [
    "noise = np.random.normal(scale=0.5, size=len(data))\n",
    "spike_indices = np.random.choice(len(data), size=10, replace=False)\n",
    "spikes = np.zeros_like(data)\n",
    "spikes[spike_indices] = np.random.uniform(-3, 3, size=10)"
   ]
  },
  {
   "cell_type": "code",
   "execution_count": 15,
   "id": "736621cf-afa3-49d5-bf48-0e574243aa3d",
   "metadata": {},
   "outputs": [],
   "source": [
    "final_signal = data + noise + spikes"
   ]
  },
  {
   "cell_type": "code",
   "execution_count": 16,
   "id": "8d9b2c6d-7abe-4bfa-8d92-6a0862853a06",
   "metadata": {},
   "outputs": [],
   "source": [
    "time_stamps = np.arange(len(final_signal)) / 10  \n"
   ]
  },
  {
   "cell_type": "code",
   "execution_count": 17,
   "id": "75042e56-d510-4e2c-958e-7c7207ec6ffa",
   "metadata": {},
   "outputs": [],
   "source": [
    "sensor_df = pd.DataFrame({'Time': time_stamps, 'Sensor Value': final_signal})\n",
    "sensor_df.to_csv(\"sensor_data.csv\", index=False)"
   ]
  },
  {
   "cell_type": "code",
   "execution_count": 18,
   "id": "2a7731fd-314a-4624-9a17-3cc34299c7ba",
   "metadata": {},
   "outputs": [
    {
     "name": "stdout",
     "output_type": "stream",
     "text": [
      "sensor_data.csv\n"
     ]
    }
   ],
   "source": [
    "print(\"sensor_data.csv\")"
   ]
  },
  {
   "cell_type": "code",
   "execution_count": null,
   "id": "624d4f81-5c1d-4a2f-b462-f2a0c6b9eaa9",
   "metadata": {},
   "outputs": [],
   "source": []
  },
  {
   "cell_type": "code",
   "execution_count": null,
   "id": "2d50ce95-62d5-4c57-bff5-9b1b82ae9fdf",
   "metadata": {},
   "outputs": [],
   "source": []
  }
 ],
 "metadata": {
  "kernelspec": {
   "display_name": "Python 3 (ipykernel)",
   "language": "python",
   "name": "python3"
  },
  "language_info": {
   "codemirror_mode": {
    "name": "ipython",
    "version": 3
   },
   "file_extension": ".py",
   "mimetype": "text/x-python",
   "name": "python",
   "nbconvert_exporter": "python",
   "pygments_lexer": "ipython3",
   "version": "3.12.3"
  }
 },
 "nbformat": 4,
 "nbformat_minor": 5
}
